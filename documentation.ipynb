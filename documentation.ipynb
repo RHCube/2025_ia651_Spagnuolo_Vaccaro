{
 "cells": [
  {
   "cell_type": "code",
   "execution_count": 1,
   "metadata": {},
   "outputs": [],
   "source": [
    "import warnings\n",
    "import pandas as pd \n",
    "import numpy as np \n",
    "warnings.simplefilter(action='ignore', category=FutureWarning)"
   ]
  },
  {
   "cell_type": "code",
   "execution_count": 2,
   "metadata": {},
   "outputs": [],
   "source": [
    "def getDocumentation():\n",
    "    documentation = pd.read_excel(\"CollegeScorecardDataDictionary.xlsx\",sheet_name=\"Institution_Data_Dictionary\")[['NAME OF DATA ELEMENT','API data type','VARIABLE NAME','VALUE','LABEL']]\n",
    "    documentation.columns = [\"Description\",\"DataType\",\"Variable\",\"Value\",\"Label\"]\n",
    "    documentation = documentation\n",
    "    documentation['Description'].fillna(method='ffill',inplace=True)\n",
    "    documentation['DataType'].fillna(method='ffill',inplace=True)\n",
    "    documentation['Variable'].fillna(method='ffill',inplace=True)\n",
    "    return documentation\n",
    "\n",
    "\n",
    "\n",
    "def describe(documentation, Variable, Value=None):\n",
    "    var = documentation.loc[documentation[\"Variable\"] == Variable].dropna(axis=1, how='all')\n",
    "\n",
    "    if var.empty:\n",
    "        raise ValueError(f'Variable {Variable} does not exist')\n",
    "\n",
    "    desc = var[[\"Variable\", \"DataType\", \"Description\"]].drop_duplicates().set_index(\"Variable\").to_dict(orient=\"index\")\n",
    "    \n",
    "    values = dict(zip(var[\"Value\"], var[\"Label\"])) if \"Value\" in var.columns else \"Not Applicable\"\n",
    "    desc[\"potential_values\"] = values\n",
    "\n",
    "    if Value is not None:\n",
    "        if values == \"Not Applicable\":\n",
    "            raise ValueError(f\"Variable {Variable} does not have any associated values.\")\n",
    "        if Value not in values:\n",
    "            raise ValueError(f\"Variable {Variable} does not have value {Value}\")\n",
    "        \n",
    "        desc.update({\"Value\": Value, \"Label\": values[Value]})\n",
    "        del desc[\"potential_values\"]\n",
    "    \n",
    "    return desc\n",
    "\n",
    "def getValues(documentation,Variable):\n",
    "    return pd.DataFrame.from_dict(describe(documentation,Variable)['potential_values'],orient='index')\n"
   ]
  },
  {
   "cell_type": "code",
   "execution_count": 3,
   "metadata": {},
   "outputs": [],
   "source": [
    "documentation = getDocumentation()"
   ]
  },
  {
   "cell_type": "code",
   "execution_count": 4,
   "metadata": {},
   "outputs": [
    {
     "data": {
      "text/plain": [
       "{'PFTFTUG1_EF': {'DataType': 'float',\n",
       "  'Description': 'Share of entering undergraduate students who are first-time, full-time degree-/certificate-seeking undergraduate students'},\n",
       " 'potential_values': 'Not Applicable'}"
      ]
     },
     "execution_count": 4,
     "metadata": {},
     "output_type": "execute_result"
    }
   ],
   "source": [
    "describe(documentation,\"PFTFTUG1_EF\")"
   ]
  }
 ],
 "metadata": {
  "kernelspec": {
   "display_name": "Python 3",
   "language": "python",
   "name": "python3"
  },
  "language_info": {
   "codemirror_mode": {
    "name": "ipython",
    "version": 3
   },
   "file_extension": ".py",
   "mimetype": "text/x-python",
   "name": "python",
   "nbconvert_exporter": "python",
   "pygments_lexer": "ipython3",
   "version": "3.12.4"
  }
 },
 "nbformat": 4,
 "nbformat_minor": 2
}
